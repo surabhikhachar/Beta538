{
 "cells": [
  {
   "cell_type": "code",
   "execution_count": 4,
   "metadata": {},
   "outputs": [],
   "source": [
    "from sklearn.cross_validation import train_test_split\n",
    "from sklearn.tree import DecisionTreeClassifier\n",
    "from sklearn.metrics import accuracy_score\n",
    "from sklearn import tree\n",
    "import pandas as pd\n",
    "\n",
    "\n"
   ]
  },
  {
   "cell_type": "code",
   "execution_count": 8,
   "metadata": {},
   "outputs": [],
   "source": [
    "df = pd.read_csv('C:/Users/WilliamDuncan/Desktop/Econ PhD/Introduction to Data Science/Data/votes_turnout.csv')"
   ]
  },
  {
   "cell_type": "code",
   "execution_count": 9,
   "metadata": {},
   "outputs": [
    {
     "data": {
      "text/html": [
       "<div>\n",
       "<style scoped>\n",
       "    .dataframe tbody tr th:only-of-type {\n",
       "        vertical-align: middle;\n",
       "    }\n",
       "\n",
       "    .dataframe tbody tr th {\n",
       "        vertical-align: top;\n",
       "    }\n",
       "\n",
       "    .dataframe thead th {\n",
       "        text-align: right;\n",
       "    }\n",
       "</style>\n",
       "<table border=\"1\" class=\"dataframe\">\n",
       "  <thead>\n",
       "    <tr style=\"text-align: right;\">\n",
       "      <th></th>\n",
       "      <th>v1</th>\n",
       "      <th>x</th>\n",
       "      <th>combined_fips</th>\n",
       "      <th>votes_dem_2016</th>\n",
       "      <th>votes_gop_2016</th>\n",
       "      <th>total_votes_2016</th>\n",
       "      <th>clinton</th>\n",
       "      <th>trump</th>\n",
       "      <th>diff_2016</th>\n",
       "      <th>per_point_diff_2016</th>\n",
       "      <th>...</th>\n",
       "      <th>lnd110210</th>\n",
       "      <th>density</th>\n",
       "      <th>clinton_obama</th>\n",
       "      <th>trump_romney</th>\n",
       "      <th>trump_prediction</th>\n",
       "      <th>clinton_prediction</th>\n",
       "      <th>trump_deviation</th>\n",
       "      <th>clinton_deviation</th>\n",
       "      <th>turnout</th>\n",
       "      <th>turnout_dummy</th>\n",
       "    </tr>\n",
       "  </thead>\n",
       "  <tbody>\n",
       "    <tr>\n",
       "      <th>0</th>\n",
       "      <td>30</td>\n",
       "      <td>29</td>\n",
       "      <td>1001</td>\n",
       "      <td>5908</td>\n",
       "      <td>18110</td>\n",
       "      <td>24661</td>\n",
       "      <td>0.239568</td>\n",
       "      <td>0.734358</td>\n",
       "      <td>12202</td>\n",
       "      <td>-0.494789</td>\n",
       "      <td>...</td>\n",
       "      <td>594.44</td>\n",
       "      <td>91.8</td>\n",
       "      <td>-0.026189</td>\n",
       "      <td>0.008020</td>\n",
       "      <td>0.620859</td>\n",
       "      <td>0.340493</td>\n",
       "      <td>-0.113499</td>\n",
       "      <td>0.100924</td>\n",
       "      <td>0.445185</td>\n",
       "      <td>0</td>\n",
       "    </tr>\n",
       "    <tr>\n",
       "      <th>1</th>\n",
       "      <td>31</td>\n",
       "      <td>30</td>\n",
       "      <td>1003</td>\n",
       "      <td>18409</td>\n",
       "      <td>72780</td>\n",
       "      <td>94090</td>\n",
       "      <td>0.195653</td>\n",
       "      <td>0.773515</td>\n",
       "      <td>54371</td>\n",
       "      <td>-0.577862</td>\n",
       "      <td>...</td>\n",
       "      <td>1589.78</td>\n",
       "      <td>114.6</td>\n",
       "      <td>-0.020013</td>\n",
       "      <td>-0.000383</td>\n",
       "      <td>0.586749</td>\n",
       "      <td>0.359502</td>\n",
       "      <td>-0.186766</td>\n",
       "      <td>0.163849</td>\n",
       "      <td>0.470189</td>\n",
       "      <td>1</td>\n",
       "    </tr>\n",
       "    <tr>\n",
       "      <th>2</th>\n",
       "      <td>32</td>\n",
       "      <td>31</td>\n",
       "      <td>1005</td>\n",
       "      <td>4848</td>\n",
       "      <td>5431</td>\n",
       "      <td>10390</td>\n",
       "      <td>0.466602</td>\n",
       "      <td>0.522714</td>\n",
       "      <td>583</td>\n",
       "      <td>-0.056112</td>\n",
       "      <td>...</td>\n",
       "      <td>884.88</td>\n",
       "      <td>31.0</td>\n",
       "      <td>-0.045920</td>\n",
       "      <td>0.039339</td>\n",
       "      <td>0.517832</td>\n",
       "      <td>0.474693</td>\n",
       "      <td>-0.004882</td>\n",
       "      <td>0.008090</td>\n",
       "      <td>0.386432</td>\n",
       "      <td>0</td>\n",
       "    </tr>\n",
       "    <tr>\n",
       "      <th>3</th>\n",
       "      <td>33</td>\n",
       "      <td>32</td>\n",
       "      <td>1007</td>\n",
       "      <td>1874</td>\n",
       "      <td>6733</td>\n",
       "      <td>8748</td>\n",
       "      <td>0.214220</td>\n",
       "      <td>0.769662</td>\n",
       "      <td>4859</td>\n",
       "      <td>-0.555441</td>\n",
       "      <td>...</td>\n",
       "      <td>622.58</td>\n",
       "      <td>36.8</td>\n",
       "      <td>-0.047965</td>\n",
       "      <td>0.038998</td>\n",
       "      <td>0.692227</td>\n",
       "      <td>0.286031</td>\n",
       "      <td>-0.077434</td>\n",
       "      <td>0.071811</td>\n",
       "      <td>0.388696</td>\n",
       "      <td>0</td>\n",
       "    </tr>\n",
       "    <tr>\n",
       "      <th>4</th>\n",
       "      <td>34</td>\n",
       "      <td>33</td>\n",
       "      <td>1009</td>\n",
       "      <td>2150</td>\n",
       "      <td>22808</td>\n",
       "      <td>25384</td>\n",
       "      <td>0.084699</td>\n",
       "      <td>0.898519</td>\n",
       "      <td>20658</td>\n",
       "      <td>-0.813820</td>\n",
       "      <td>...</td>\n",
       "      <td>644.78</td>\n",
       "      <td>88.9</td>\n",
       "      <td>-0.038779</td>\n",
       "      <td>0.033590</td>\n",
       "      <td>0.789649</td>\n",
       "      <td>0.177490</td>\n",
       "      <td>-0.108870</td>\n",
       "      <td>0.092791</td>\n",
       "      <td>0.439786</td>\n",
       "      <td>0</td>\n",
       "    </tr>\n",
       "  </tbody>\n",
       "</table>\n",
       "<p>5 rows × 84 columns</p>\n",
       "</div>"
      ],
      "text/plain": [
       "   v1   x  combined_fips  votes_dem_2016  votes_gop_2016  total_votes_2016  \\\n",
       "0  30  29           1001            5908           18110             24661   \n",
       "1  31  30           1003           18409           72780             94090   \n",
       "2  32  31           1005            4848            5431             10390   \n",
       "3  33  32           1007            1874            6733              8748   \n",
       "4  34  33           1009            2150           22808             25384   \n",
       "\n",
       "    clinton     trump  diff_2016  per_point_diff_2016      ...        \\\n",
       "0  0.239568  0.734358      12202            -0.494789      ...         \n",
       "1  0.195653  0.773515      54371            -0.577862      ...         \n",
       "2  0.466602  0.522714        583            -0.056112      ...         \n",
       "3  0.214220  0.769662       4859            -0.555441      ...         \n",
       "4  0.084699  0.898519      20658            -0.813820      ...         \n",
       "\n",
       "  lnd110210 density  clinton_obama  trump_romney  trump_prediction  \\\n",
       "0    594.44    91.8      -0.026189      0.008020          0.620859   \n",
       "1   1589.78   114.6      -0.020013     -0.000383          0.586749   \n",
       "2    884.88    31.0      -0.045920      0.039339          0.517832   \n",
       "3    622.58    36.8      -0.047965      0.038998          0.692227   \n",
       "4    644.78    88.9      -0.038779      0.033590          0.789649   \n",
       "\n",
       "   clinton_prediction  trump_deviation  clinton_deviation   turnout  \\\n",
       "0            0.340493        -0.113499           0.100924  0.445185   \n",
       "1            0.359502        -0.186766           0.163849  0.470189   \n",
       "2            0.474693        -0.004882           0.008090  0.386432   \n",
       "3            0.286031        -0.077434           0.071811  0.388696   \n",
       "4            0.177490        -0.108870           0.092791  0.439786   \n",
       "\n",
       "   turnout_dummy  \n",
       "0              0  \n",
       "1              1  \n",
       "2              0  \n",
       "3              0  \n",
       "4              0  \n",
       "\n",
       "[5 rows x 84 columns]"
      ]
     },
     "execution_count": 9,
     "metadata": {},
     "output_type": "execute_result"
    }
   ],
   "source": [
    "df.head(5)"
   ]
  },
  {
   "cell_type": "code",
   "execution_count": 19,
   "metadata": {},
   "outputs": [],
   "source": [
    "labels = df['turnout_dummy']\n",
    "features = df[['clinton']]\n",
    "X_train, X_test, y_train, y_test = train_test_split(features, \n",
    "                                                    labels, \n",
    "                                                    test_size=0.20, \n",
    "                                                    random_state=42)\n",
    "\n"
   ]
  },
  {
   "cell_type": "code",
   "execution_count": 20,
   "metadata": {},
   "outputs": [
    {
     "name": "stdout",
     "output_type": "stream",
     "text": [
      "0.507223113964687\n"
     ]
    }
   ],
   "source": [
    "clf = tree.DecisionTreeClassifier()\n",
    "clf = clf.fit(X_train, y_train)\n",
    "print(accuracy_score(y_test, clf.predict(X_test)))"
   ]
  },
  {
   "cell_type": "code",
   "execution_count": 21,
   "metadata": {},
   "outputs": [
    {
     "name": "stdout",
     "output_type": "stream",
     "text": [
      "0.5248796147672552\n"
     ]
    }
   ],
   "source": [
    "labels = df['turnout_dummy']\n",
    "features = df[['trump']]\n",
    "X_train, X_test, y_train, y_test = train_test_split(features, \n",
    "                                                    labels, \n",
    "                                                    test_size=0.20, \n",
    "                                                    random_state=42)\n",
    "clf = tree.DecisionTreeClassifier()\n",
    "clf = clf.fit(X_train, y_train)\n",
    "print(accuracy_score(y_test, clf.predict(X_test)))"
   ]
  },
  {
   "cell_type": "code",
   "execution_count": 22,
   "metadata": {},
   "outputs": [
    {
     "name": "stdout",
     "output_type": "stream",
     "text": [
      "0.521669341894061\n"
     ]
    }
   ],
   "source": [
    "labels = df['turnout_dummy']\n",
    "features = df[['density']]\n",
    "X_train, X_test, y_train, y_test = train_test_split(features, \n",
    "                                                    labels, \n",
    "                                                    test_size=0.20, \n",
    "                                                    random_state=42)\n",
    "clf = tree.DecisionTreeClassifier()\n",
    "clf = clf.fit(X_train, y_train)\n",
    "print(accuracy_score(y_test, clf.predict(X_test)))"
   ]
  },
  {
   "cell_type": "code",
   "execution_count": 23,
   "metadata": {},
   "outputs": [
    {
     "name": "stdout",
     "output_type": "stream",
     "text": [
      "0.5329052969502408\n"
     ]
    }
   ],
   "source": [
    "labels = df['turnout_dummy']\n",
    "features = df[['trump_prediction']]\n",
    "X_train, X_test, y_train, y_test = train_test_split(features, \n",
    "                                                    labels, \n",
    "                                                    test_size=0.20, \n",
    "                                                    random_state=42)\n",
    "clf = tree.DecisionTreeClassifier()\n",
    "clf = clf.fit(X_train, y_train)\n",
    "print(accuracy_score(y_test, clf.predict(X_test)))"
   ]
  },
  {
   "cell_type": "code",
   "execution_count": 24,
   "metadata": {},
   "outputs": [
    {
     "name": "stdout",
     "output_type": "stream",
     "text": [
      "0.5296950240770465\n"
     ]
    }
   ],
   "source": [
    "labels = df['turnout_dummy']\n",
    "features = df[['clinton_prediction']]\n",
    "X_train, X_test, y_train, y_test = train_test_split(features, \n",
    "                                                    labels, \n",
    "                                                    test_size=0.20, \n",
    "                                                    random_state=42)\n",
    "clf = tree.DecisionTreeClassifier()\n",
    "clf = clf.fit(X_train, y_train)\n",
    "print(accuracy_score(y_test, clf.predict(X_test)))"
   ]
  },
  {
   "cell_type": "code",
   "execution_count": 25,
   "metadata": {},
   "outputs": [
    {
     "name": "stdout",
     "output_type": "stream",
     "text": [
      "0.5473515248796148\n"
     ]
    }
   ],
   "source": [
    "labels = df['turnout_dummy']\n",
    "features = df[['trump_deviation']]\n",
    "X_train, X_test, y_train, y_test = train_test_split(features, \n",
    "                                                    labels, \n",
    "                                                    test_size=0.20, \n",
    "                                                    random_state=42)\n",
    "clf = tree.DecisionTreeClassifier()\n",
    "clf = clf.fit(X_train, y_train)\n",
    "print(accuracy_score(y_test, clf.predict(X_test)))"
   ]
  },
  {
   "cell_type": "code",
   "execution_count": 26,
   "metadata": {},
   "outputs": [
    {
     "name": "stdout",
     "output_type": "stream",
     "text": [
      "0.5313001605136437\n"
     ]
    }
   ],
   "source": [
    "labels = df['turnout_dummy']\n",
    "features = df[['clinton_deviation']]\n",
    "X_train, X_test, y_train, y_test = train_test_split(features, \n",
    "                                                    labels, \n",
    "                                                    test_size=0.20, \n",
    "                                                    random_state=42)\n",
    "clf = tree.DecisionTreeClassifier()\n",
    "clf = clf.fit(X_train, y_train)\n",
    "print(accuracy_score(y_test, clf.predict(X_test)))"
   ]
  },
  {
   "cell_type": "code",
   "execution_count": 27,
   "metadata": {},
   "outputs": [
    {
     "name": "stdout",
     "output_type": "stream",
     "text": [
      "0.6115569823434992\n"
     ]
    }
   ],
   "source": [
    "labels = df['turnout_dummy']\n",
    "features = df[['clinton','trump','clinton_deviation','trump_deviation','clinton_prediction','trump_prediction','density']]\n",
    "X_train, X_test, y_train, y_test = train_test_split(features, \n",
    "                                                    labels, \n",
    "                                                    test_size=0.20, \n",
    "                                                    random_state=42)\n",
    "clf = tree.DecisionTreeClassifier()\n",
    "clf = clf.fit(X_train, y_train)\n",
    "print(accuracy_score(y_test, clf.predict(X_test)))"
   ]
  },
  {
   "cell_type": "code",
   "execution_count": null,
   "metadata": {},
   "outputs": [],
   "source": []
  }
 ],
 "metadata": {
  "kernelspec": {
   "display_name": "Python 3",
   "language": "python",
   "name": "python3"
  },
  "language_info": {
   "codemirror_mode": {
    "name": "ipython",
    "version": 3
   },
   "file_extension": ".py",
   "mimetype": "text/x-python",
   "name": "python",
   "nbconvert_exporter": "python",
   "pygments_lexer": "ipython3",
   "version": "3.6.5"
  }
 },
 "nbformat": 4,
 "nbformat_minor": 2
}
